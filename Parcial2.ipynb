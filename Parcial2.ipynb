{
  "nbformat": 4,
  "nbformat_minor": 0,
  "metadata": {
    "colab": {
      "name": "Parcial2.ipynb",
      "version": "0.3.2",
      "provenance": [],
      "include_colab_link": true
    },
    "kernelspec": {
      "name": "python3",
      "display_name": "Python 3"
    }
  },
  "cells": [
    {
      "cell_type": "markdown",
      "metadata": {
        "id": "view-in-github",
        "colab_type": "text"
      },
      "source": [
        "<a href=\"https://colab.research.google.com/github/dangulos/herokutest/blob/master/Parcial2.ipynb\" target=\"_parent\"><img src=\"https://colab.research.google.com/assets/colab-badge.svg\" alt=\"Open In Colab\"/></a>"
      ]
    },
    {
      "cell_type": "code",
      "metadata": {
        "id": "dYLBnn3Qtr3M",
        "colab_type": "code",
        "colab": {}
      },
      "source": [
        "import random\n",
        "import statistics\n",
        "import math\n",
        "import matplotlib.pyplot as plt\n",
        "import numpy as np\n",
        "import time as time\n",
        "%matplotlib inline"
      ],
      "execution_count": 0,
      "outputs": []
    },
    {
      "cell_type": "code",
      "metadata": {
        "id": "cdwOtzJVuS69",
        "colab_type": "code",
        "colab": {}
      },
      "source": [
        "def heapify(arr, n, i): \n",
        "    largest = i # Initialize largest as root \n",
        "    l = 2 * i + 1     # left = 2*i + 1 \n",
        "    r = 2 * i + 2     # right = 2*i + 2 \n",
        "  \n",
        "    # See if left child of root exists and is \n",
        "    # greater than root \n",
        "    if l < n and arr[i] < arr[l]: \n",
        "        largest = l \n",
        "  \n",
        "    # See if right child of root exists and is \n",
        "    # greater than root \n",
        "    if r < n and arr[largest] < arr[r]: \n",
        "        largest = r \n",
        "  \n",
        "    # Change root, if needed \n",
        "    if largest != i: \n",
        "        arr[i],arr[largest] = arr[largest],arr[i] # swap \n",
        "  \n",
        "        # Heapify the root. \n",
        "        heapify(arr, n, largest) "
      ],
      "execution_count": 0,
      "outputs": []
    },
    {
      "cell_type": "code",
      "metadata": {
        "id": "PpBnxfXnue3Q",
        "colab_type": "code",
        "colab": {}
      },
      "source": [
        "def heapSort(arr): \n",
        "    n = len(arr) \n",
        "  \n",
        "    # Build a maxheap. \n",
        "    for i in range(n, -1, -1): \n",
        "        heapify(arr, n, i) \n",
        "  \n",
        "    # One by one extract elements \n",
        "    for i in range(n-1, 0, -1): \n",
        "        arr[i], arr[0] = arr[0], arr[i] # swap \n",
        "        heapify(arr, i, 0) "
      ],
      "execution_count": 0,
      "outputs": []
    },
    {
      "cell_type": "code",
      "metadata": {
        "id": "XejU4DRrujWG",
        "colab_type": "code",
        "colab": {
          "base_uri": "https://localhost:8080/",
          "height": 380
        },
        "outputId": "2713f54f-7ee8-4f9e-fbd9-ffcebf1b7582"
      },
      "source": [
        "n = 1024\n",
        "X = []\n",
        "for i in range(1000):\n",
        "  t0 = time.time()\n",
        "  arr = np.random.permutation(n)\n",
        "  t1 = time.time()\n",
        "  X.append(t1-t0)\n",
        "  heapSort(arr)  \n",
        "\n",
        "print(\"mean\",statistics.mean(X))\n",
        "print(\"stdev\",statistics.stdev(X))\n",
        "print(\"min\",min(X))\n",
        "print(\"max\",max(X))\n",
        "constante_1 = statistics.mean(X) / (n * math.log(n,2))\n",
        "print(\"const c\", constante_1)\n",
        "\n",
        "plt.hist(X)\n",
        "plt.title(\"Number of comparison of Heapsort for all permutaions\")\n",
        "plt.xlabel(\"Time\")\n",
        "plt.ylabel(\"Frequency\")\n",
        "plt.show()"
      ],
      "execution_count": 33,
      "outputs": [
        {
          "output_type": "stream",
          "text": [
            "mean 0.00013215160369873047\n",
            "stdev 6.929139630397122e-05\n",
            "min 7.200241088867188e-05\n",
            "max 0.0006666183471679688\n",
            "const c 1.2905430048704146e-08\n"
          ],
          "name": "stdout"
        },
        {
          "output_type": "display_data",
          "data": {
            "image/png": "[encoded data removed]",
            "text/plain": [
              "<Figure size 432x288 with 1 Axes>"
            ]
          },
          "metadata": {
            "tags": []
          }
        }
      ]
    },
    {
      "cell_type": "code",
      "metadata": {
        "id": "P1oSvvWjzDmj",
        "colab_type": "code",
        "colab": {}
      },
      "source": [
        "def mergeSort(arr): \n",
        "    if len(arr) >1: \n",
        "        mid = len(arr)//2 #Finding the mid of the array \n",
        "        L = arr[:mid] # Dividing the array elements  \n",
        "        R = arr[mid:] # into 2 halves \n",
        "  \n",
        "        mergeSort(L) # Sorting the first half \n",
        "        mergeSort(R) # Sorting the second half \n",
        "  \n",
        "        i = j = k = 0\n",
        "          \n",
        "        # Copy data to temp arrays L[] and R[] \n",
        "        while i < len(L) and j < len(R): \n",
        "            if L[i] < R[j]: \n",
        "                arr[k] = L[i] \n",
        "                i+=1\n",
        "            else: \n",
        "                arr[k] = R[j] \n",
        "                j+=1\n",
        "            k+=1\n",
        "          \n",
        "        # Checking if any element was left \n",
        "        while i < len(L): \n",
        "            arr[k] = L[i] \n",
        "            i+=1\n",
        "            k+=1\n",
        "          \n",
        "        while j < len(R): \n",
        "            arr[k] = R[j] \n",
        "            j+=1\n",
        "            k+=1"
      ],
      "execution_count": 0,
      "outputs": []
    },
    {
      "cell_type": "code",
      "metadata": {
        "id": "FzAGU9_IzJDU",
        "colab_type": "code",
        "colab": {
          "base_uri": "https://localhost:8080/",
          "height": 380
        },
        "outputId": "afcb2e46-ebac-4840-a2fc-04706b4b7dfe"
      },
      "source": [
        "n = 1024\n",
        "Y = []\n",
        "for i in range(1000):\n",
        "  t0 = time.time()\n",
        "  arr = np.random.permutation(n)\n",
        "  t1 = time.time()\n",
        "  Y.append(t1-t0)\n",
        "  mergeSort(arr)  \n",
        "\n",
        "print(\"mean\",statistics.mean(Y))\n",
        "print(\"stdev\",statistics.stdev(Y))\n",
        "print(\"min\",min(Y))\n",
        "print(\"max\",max(Y))\n",
        "constante_2 = statistics.mean(Y) / (n * math.log(n,2))\n",
        "print(\"const c\", constante_2)\n",
        "\n",
        "plt.hist(Y)\n",
        "plt.title(\"Number of comparison of Heapsort for all permutaions\")\n",
        "plt.xlabel(\"Time\")\n",
        "plt.ylabel(\"Frequency\")\n",
        "plt.show()"
      ],
      "execution_count": 34,
      "outputs": [
        {
          "output_type": "stream",
          "text": [
            "mean 0.00010465264320373535\n",
            "stdev 6.406160563375657e-05\n",
            "min 6.67572021484375e-05\n",
            "max 0.0007529258728027344\n",
            "const c 1.021998468786478e-08\n"
          ],
          "name": "stdout"
        },
        {
          "output_type": "display_data",
          "data": {
            "image/png": "[encoded data removed]",
            "text/plain": [
              "<Figure size 432x288 with 1 Axes>"
            ]
          },
          "metadata": {
            "tags": []
          }
        }
      ]
    },
    {
      "cell_type": "code",
      "metadata": {
        "id": "eViGEpkGzgBz",
        "colab_type": "code",
        "colab": {}
      },
      "source": [
        "def partition(arr,low,high): \n",
        "    i = ( low-1 )         # index of smaller element \n",
        "    pivot = arr[high]     # pivot \n",
        "  \n",
        "    for j in range(low , high): \n",
        "  \n",
        "        # If current element is smaller than or \n",
        "        # equal to pivot \n",
        "        if   arr[j] <= pivot: \n",
        "          \n",
        "            # increment index of smaller element \n",
        "            i = i+1 \n",
        "            arr[i],arr[j] = arr[j],arr[i] \n",
        "  \n",
        "    arr[i+1],arr[high] = arr[high],arr[i+1] \n",
        "    return ( i+1 ) "
      ],
      "execution_count": 0,
      "outputs": []
    },
    {
      "cell_type": "code",
      "metadata": {
        "id": "ow8EGPOLzrB0",
        "colab_type": "code",
        "colab": {}
      },
      "source": [
        "def quickSort(arr,low,high): \n",
        "    if low < high: \n",
        "  \n",
        "        # pi is partitioning index, arr[p] is now \n",
        "        # at right place \n",
        "        pi = partition(arr,low,high) \n",
        "  \n",
        "        # Separately sort elements before \n",
        "        # partition and after partition \n",
        "        quickSort(arr, low, pi-1) \n",
        "        quickSort(arr, pi+1, high)"
      ],
      "execution_count": 0,
      "outputs": []
    },
    {
      "cell_type": "code",
      "metadata": {
        "id": "WQyltuUszt70",
        "colab_type": "code",
        "colab": {
          "base_uri": "https://localhost:8080/",
          "height": 380
        },
        "outputId": "4dea21a0-2516-4c4a-8b52-208072c8caec"
      },
      "source": [
        "n = 1024\n",
        "Z = []\n",
        "for i in range(1000):\n",
        "  t0 = time.time()\n",
        "  arr = np.random.permutation(n)\n",
        "  t1 = time.time()\n",
        "  Z.append(t1-t0)\n",
        "  mergeSort(arr)  \n",
        "\n",
        "print(\"mean\",statistics.mean(Z))\n",
        "print(\"stdev\",statistics.stdev(Z))\n",
        "print(\"min\",min(Z))\n",
        "print(\"max\",max(Z))\n",
        "constante_3 = statistics.mean(Z) / (n * math.log(n,2))\n",
        "print(\"const c\", constante_3)\n",
        "\n",
        "plt.hist(Z)\n",
        "plt.title(\"Number of comparison of Heapsort for all permutaions\")\n",
        "plt.xlabel(\"Time\")\n",
        "plt.ylabel(\"Frequency\")\n",
        "plt.show()"
      ],
      "execution_count": 35,
      "outputs": [
        {
          "output_type": "stream",
          "text": [
            "mean 0.00019624447822570802\n",
            "stdev 0.002909773275004173\n",
            "min 6.628036499023438e-05\n",
            "max 0.09209918975830078\n",
            "const c 1.91644998267293e-08\n"
          ],
          "name": "stdout"
        },
        {
          "output_type": "display_data",
          "data": {
            "image/png": "[encoded data removed]",
            "text/plain": [
              "<Figure size 432x288 with 1 Axes>"
            ]
          },
          "metadata": {
            "tags": []
          }
        }
      ]
    },
    {
      "cell_type": "code",
      "metadata": {
        "id": "I8Bb8Nb0F3bR",
        "colab_type": "code",
        "colab": {
          "base_uri": "https://localhost:8080/",
          "height": 68
        },
        "outputId": "527cb794-a823-44ee-e313-a16e46c59339"
      },
      "source": [
        "print(\"constante heap\", constante_1)\n",
        "print(\"constante merge\", constante_2)\n",
        "print(\"constante quick\", constante_3)"
      ],
      "execution_count": 36,
      "outputs": [
        {
          "output_type": "stream",
          "text": [
            "constante heap 1.2905430048704146e-08\n",
            "constante merge 1.021998468786478e-08\n",
            "constante quick 1.91644998267293e-08\n"
          ],
          "name": "stdout"
        }
      ]
    },
    {
      "cell_type": "markdown",
      "metadata": {
        "id": "uJkKYgBiIqYs",
        "colab_type": "text"
      },
      "source": [
        "En comparación, las merge sort tiene la media más baja de los tres algoritmos de ordenamiento. También se puede observar que, de los 1000 casos, quicksort tuvo la media más alta. Pudo darse el caso en que la aleatoriedad de quick jugó en su contra tomando muy malos casos en comparación a lo constante que es mergeSort.Puede haber casos en quicksort donde la solución se haya demorado menos en general .Heap se muestra como una solución intermedia a estos dos algoritmos."
      ]
    }
  ]
}