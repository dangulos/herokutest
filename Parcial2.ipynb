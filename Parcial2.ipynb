{
  "nbformat": 4,
  "nbformat_minor": 0,
  "metadata": {
    "colab": {
      "name": "Parcial2.ipynb",
      "version": "0.3.2",
      "provenance": [],
      "include_colab_link": true
    },
    "kernelspec": {
      "name": "python3",
      "display_name": "Python 3"
    }
  },
  "cells": [
    {
      "cell_type": "markdown",
      "metadata": {
        "id": "view-in-github",
        "colab_type": "text"
      },
      "source": [
        "<a href=\"https://colab.research.google.com/github/dangulos/herokutest/blob/master/Parcial2.ipynb\" target=\"_parent\"><img src=\"https://colab.research.google.com/assets/colab-badge.svg\" alt=\"Open In Colab\"/></a>"
      ]
    },
    {
      "cell_type": "code",
      "metadata": {
        "id": "dYLBnn3Qtr3M",
        "colab_type": "code",
        "colab": {}
      },
      "source": [
        "import random\n",
        "import statistics\n",
        "import matplotlib.pyplot as plt\n",
        "import numpy as np\n",
        "import time as time\n",
        "%matplotlib inline"
      ],
      "execution_count": 0,
      "outputs": []
    },
    {
      "cell_type": "code",
      "metadata": {
        "id": "cdwOtzJVuS69",
        "colab_type": "code",
        "colab": {}
      },
      "source": [
        "def heapify(arr, n, i): \n",
        "    largest = i # Initialize largest as root \n",
        "    l = 2 * i + 1     # left = 2*i + 1 \n",
        "    r = 2 * i + 2     # right = 2*i + 2 \n",
        "  \n",
        "    # See if left child of root exists and is \n",
        "    # greater than root \n",
        "    if l < n and arr[i] < arr[l]: \n",
        "        largest = l \n",
        "  \n",
        "    # See if right child of root exists and is \n",
        "    # greater than root \n",
        "    if r < n and arr[largest] < arr[r]: \n",
        "        largest = r \n",
        "  \n",
        "    # Change root, if needed \n",
        "    if largest != i: \n",
        "        arr[i],arr[largest] = arr[largest],arr[i] # swap \n",
        "  \n",
        "        # Heapify the root. \n",
        "        heapify(arr, n, largest) "
      ],
      "execution_count": 0,
      "outputs": []
    },
    {
      "cell_type": "code",
      "metadata": {
        "id": "PpBnxfXnue3Q",
        "colab_type": "code",
        "colab": {}
      },
      "source": [
        "def heapSort(arr): \n",
        "    n = len(arr) \n",
        "  \n",
        "    # Build a maxheap. \n",
        "    for i in range(n, -1, -1): \n",
        "        heapify(arr, n, i) \n",
        "  \n",
        "    # One by one extract elements \n",
        "    for i in range(n-1, 0, -1): \n",
        "        arr[i], arr[0] = arr[0], arr[i] # swap \n",
        "        heapify(arr, i, 0) "
      ],
      "execution_count": 0,
      "outputs": []
    },
    {
      "cell_type": "code",
      "metadata": {
        "id": "XejU4DRrujWG",
        "colab_type": "code",
        "colab": {
          "base_uri": "https://localhost:8080/",
          "height": 363
        },
        "outputId": "312a2bf1-d74f-4c6f-ae5c-89972f29e452"
      },
      "source": [
        "n = 1024\n",
        "X = []\n",
        "for i in range(1000):\n",
        "  t0 = time.time()\n",
        "  arr = np.random.permutation(n)\n",
        "  t1 = time.time()\n",
        "  X.append(t1-t0)\n",
        "  heapSort(arr)  \n",
        "\n",
        "print(\"mean\",statistics.mean(X))\n",
        "print(\"stdev\",statistics.stdev(X))\n",
        "print(\"min\",min(X))\n",
        "print(\"max\",max(X))\n",
        "\n",
        "plt.hist(X)\n",
        "plt.title(\"Number of comparison of Heapsort for all permutaions\")\n",
        "plt.xlabel(\"Time\")\n",
        "plt.ylabel(\"Frequency\")\n",
        "plt.show()"
      ],
      "execution_count": 19,
      "outputs": [
        {
          "output_type": "stream",
          "text": [
            "mean 0.00011536788940429687\n",
            "stdev 9.868908289758187e-05\n",
            "min 6.723403930664062e-05\n",
            "max 0.002588987350463867\n"
          ],
          "name": "stdout"
        },
        {
          "output_type": "display_data",
          "data": {
            "image/png": "[encoded data removed]",
            "text/plain": [
              "<Figure size 432x288 with 1 Axes>"
            ]
          },
          "metadata": {
            "tags": []
          }
        }
      ]
    },
    {
      "cell_type": "code",
      "metadata": {
        "id": "P1oSvvWjzDmj",
        "colab_type": "code",
        "colab": {}
      },
      "source": [
        "def mergeSort(arr): \n",
        "    if len(arr) >1: \n",
        "        mid = len(arr)//2 #Finding the mid of the array \n",
        "        L = arr[:mid] # Dividing the array elements  \n",
        "        R = arr[mid:] # into 2 halves \n",
        "  \n",
        "        mergeSort(L) # Sorting the first half \n",
        "        mergeSort(R) # Sorting the second half \n",
        "  \n",
        "        i = j = k = 0\n",
        "          \n",
        "        # Copy data to temp arrays L[] and R[] \n",
        "        while i < len(L) and j < len(R): \n",
        "            if L[i] < R[j]: \n",
        "                arr[k] = L[i] \n",
        "                i+=1\n",
        "            else: \n",
        "                arr[k] = R[j] \n",
        "                j+=1\n",
        "            k+=1\n",
        "          \n",
        "        # Checking if any element was left \n",
        "        while i < len(L): \n",
        "            arr[k] = L[i] \n",
        "            i+=1\n",
        "            k+=1\n",
        "          \n",
        "        while j < len(R): \n",
        "            arr[k] = R[j] \n",
        "            j+=1\n",
        "            k+=1"
      ],
      "execution_count": 0,
      "outputs": []
    },
    {
      "cell_type": "code",
      "metadata": {
        "id": "FzAGU9_IzJDU",
        "colab_type": "code",
        "colab": {
          "base_uri": "https://localhost:8080/",
          "height": 363
        },
        "outputId": "ca0f624d-522f-4f1a-92d5-0e7a7422a5ef"
      },
      "source": [
        "n = 1024\n",
        "Y = []\n",
        "for i in range(1000):\n",
        "  t0 = time.time()\n",
        "  arr = np.random.permutation(n)\n",
        "  t1 = time.time()\n",
        "  Y.append(t1-t0)\n",
        "  mergeSort(arr)  \n",
        "\n",
        "print(\"mean\",statistics.mean(Y))\n",
        "print(\"stdev\",statistics.stdev(Y))\n",
        "print(\"min\",min(Y))\n",
        "print(\"max\",max(Y))\n",
        "\n",
        "plt.hist(Y)\n",
        "plt.title(\"Number of comparison of Heapsort for all permutaions\")\n",
        "plt.xlabel(\"Time\")\n",
        "plt.ylabel(\"Frequency\")\n",
        "plt.show()"
      ],
      "execution_count": 22,
      "outputs": [
        {
          "output_type": "stream",
          "text": [
            "mean 0.00010362172126770019\n",
            "stdev 5.9448492696161346e-05\n",
            "min 6.532669067382812e-05\n",
            "max 0.0005795955657958984\n"
          ],
          "name": "stdout"
        },
        {
          "output_type": "display_data",
          "data": {
            "image/png": "[encoded data removed]",
            "text/plain": [
              "<Figure size 432x288 with 1 Axes>"
            ]
          },
          "metadata": {
            "tags": []
          }
        }
      ]
    },
    {
      "cell_type": "code",
      "metadata": {
        "id": "eViGEpkGzgBz",
        "colab_type": "code",
        "colab": {}
      },
      "source": [
        "def partition(arr,low,high): \n",
        "    i = ( low-1 )         # index of smaller element \n",
        "    pivot = arr[high]     # pivot \n",
        "  \n",
        "    for j in range(low , high): \n",
        "  \n",
        "        # If current element is smaller than or \n",
        "        # equal to pivot \n",
        "        if   arr[j] <= pivot: \n",
        "          \n",
        "            # increment index of smaller element \n",
        "            i = i+1 \n",
        "            arr[i],arr[j] = arr[j],arr[i] \n",
        "  \n",
        "    arr[i+1],arr[high] = arr[high],arr[i+1] \n",
        "    return ( i+1 ) "
      ],
      "execution_count": 0,
      "outputs": []
    },
    {
      "cell_type": "code",
      "metadata": {
        "id": "ow8EGPOLzrB0",
        "colab_type": "code",
        "colab": {}
      },
      "source": [
        "def quickSort(arr,low,high): \n",
        "    if low < high: \n",
        "  \n",
        "        # pi is partitioning index, arr[p] is now \n",
        "        # at right place \n",
        "        pi = partition(arr,low,high) \n",
        "  \n",
        "        # Separately sort elements before \n",
        "        # partition and after partition \n",
        "        quickSort(arr, low, pi-1) \n",
        "        quickSort(arr, pi+1, high)"
      ],
      "execution_count": 0,
      "outputs": []
    },
    {
      "cell_type": "code",
      "metadata": {
        "id": "WQyltuUszt70",
        "colab_type": "code",
        "colab": {
          "base_uri": "https://localhost:8080/",
          "height": 363
        },
        "outputId": "a30351a2-01e6-4bb8-d4ed-7d333cb72058"
      },
      "source": [
        "n = 1024\n",
        "Z = []\n",
        "for i in range(1000):\n",
        "  t0 = time.time()\n",
        "  arr = np.random.permutation(n)\n",
        "  t1 = time.time()\n",
        "  Z.append(t1-t0)\n",
        "  mergeSort(arr)  \n",
        "\n",
        "print(\"mean\",statistics.mean(Z))\n",
        "print(\"stdev\",statistics.stdev(Z))\n",
        "print(\"min\",min(Z))\n",
        "print(\"max\",max(Z))\n",
        "\n",
        "plt.hist(Z)\n",
        "plt.title(\"Number of comparison of Heapsort for all permutaions\")\n",
        "plt.xlabel(\"Time\")\n",
        "plt.ylabel(\"Frequency\")\n",
        "plt.show()"
      ],
      "execution_count": 26,
      "outputs": [
        {
          "output_type": "stream",
          "text": [
            "mean 0.00010365080833435058\n",
            "stdev 5.9006811119955765e-05\n",
            "min 6.723403930664062e-05\n",
            "max 0.0007171630859375\n"
          ],
          "name": "stdout"
        },
        {
          "output_type": "display_data",
          "data": {
            "image/png": "[encoded data removed]",
            "text/plain": [
              "<Figure size 432x288 with 1 Axes>"
            ]
          },
          "metadata": {
            "tags": []
          }
        }
      ]
    }
  ]
}